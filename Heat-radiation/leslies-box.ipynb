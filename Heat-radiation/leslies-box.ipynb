{
 "cells": [
  {
   "cell_type": "code",
   "execution_count": 32,
   "id": "e1bb2b80",
   "metadata": {},
   "outputs": [],
   "source": [
    "import numpy as np\n",
    "import seaborn as sns\n",
    "import matplotlib.pyplot as plt"
   ]
  },
  {
   "cell_type": "code",
   "execution_count": 33,
   "id": "1756d6e2",
   "metadata": {},
   "outputs": [],
   "source": [
    "def lerp(x0, y0, x1, y1, x):\n",
    "    if x1 == x0:\n",
    "        raise ValueError(\"x0 and x1 cannot be the same value\")\n",
    "    return y0 + (x - x0) * (y1 - y0) / (x1 - x0)\n",
    "\n",
    "def linearInterpT(R):\n",
    "    R1 = 6.7559\n",
    "    R2 = 6.3308    \n",
    "    R3 = 4.6151\n",
    "    R4 = 4.3397\n",
    "    R5 = 3.0333\n",
    "    R6 = 2.8625\n",
    "    R7 = 2.2810\n",
    "    R8 = 2.1576\n",
    "\n",
    "\n",
    "    T1 = 94\n",
    "    T2 = 96\n",
    "    T3 = 106\n",
    "    T4 = 108\n",
    "    T5 = 120\n",
    "    T6 = 122\n",
    "    T7 = 130\n",
    "    T8 = 132\n",
    "\n",
    "    if R2 <= R <= R1:  # between R1 and R2\n",
    "        return lerp(R1, T1, R2, T2, R)\n",
    "    elif R4 <= R <= R3:  # between R3 and R4\n",
    "        return lerp(R3, T3, R4, T4, R)\n",
    "    elif R6 <= R <= R5:  # between R5 and R6\n",
    "        return lerp(R5, T5, R6, T6, R)\n",
    "    elif R8 <= R <= R7:  # between R7 and R8\n",
    "        return lerp(R7, T7, R8, T8, R)\n",
    "    else:\n",
    "        raise ValueError(f\"R={R} is out of interpolation range\")\n",
    "\n",
    "vecLinInterpT = np.vectorize(linearInterpT)  \n"
   ]
  },
  {
   "cell_type": "code",
   "execution_count": 34,
   "id": "7d5a1671",
   "metadata": {},
   "outputs": [
    {
     "name": "stdout",
     "output_type": "stream",
     "text": [
      "PS R dR VS_ ... Blank White Gray Black\n",
      "[[ 5.   6.7  0.1  0.9 10.6  3.2 10.9]\n",
      " [ 7.   4.5  0.1  0.7 12.8  3.8 13.1]\n",
      " [ 8.   2.9  0.1  0.9 16.5  4.9 17.3]\n",
      " [ 9.   2.2  0.1  2.  19.1  5.7 19.5]]\n"
     ]
    }
   ],
   "source": [
    "path = \"lab-results/leslies-box.txt\"\n",
    "data =  np.loadtxt(path, skiprows=1)\n",
    "with open(path, \"r\") as f:\n",
    "    header = f.readline().strip()\n",
    "print(header)\n",
    "print(data)\n",
    "\n",
    "PS = data[:,0] \n",
    "R = data[:,1]\n",
    "T = vecLinInterpT(R)\n",
    "Blank = data[:,3]\n",
    "White = data[:,4]\n",
    "Gray = data[:,5]\n",
    "Black = data[:,6]"
   ]
  },
  {
   "cell_type": "markdown",
   "id": "ea4605fc",
   "metadata": {},
   "source": []
  },
  {
   "cell_type": "code",
   "execution_count": 38,
   "id": "1735cc06",
   "metadata": {},
   "outputs": [
    {
     "data": {
      "image/png": "[encoded data removed]",
      "text/plain": [
       "<Figure size 640x480 with 1 Axes>"
      ]
     },
     "metadata": {},
     "output_type": "display_data"
    }
   ],
   "source": [
    "#sns.scatterplot(x=R, y=Blank)\n",
    "for i in range(3,7):\n",
    "    plt.scatter(T,data[:,i])"
   ]
  }
 ],
 "metadata": {
  "kernelspec": {
   "display_name": ".venv (3.12.10)",
   "language": "python",
   "name": "python3"
  },
  "language_info": {
   "codemirror_mode": {
    "name": "ipython",
    "version": 3
   },
   "file_extension": ".py",
   "mimetype": "text/x-python",
   "name": "python",
   "nbconvert_exporter": "python",
   "pygments_lexer": "ipython3",
   "version": "3.12.10"
  }
 },
 "nbformat": 4,
 "nbformat_minor": 5
}
