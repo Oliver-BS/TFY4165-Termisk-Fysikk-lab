{
 "cells": [
  {
   "cell_type": "code",
   "execution_count": 63,
   "id": "3529c9bf",
   "metadata": {},
   "outputs": [],
   "source": [
    "import numpy as np\n",
    "import matplotlib.pyplot as plt"
   ]
  },
  {
   "cell_type": "code",
   "execution_count": 56,
   "id": "9fc47fdd",
   "metadata": {},
   "outputs": [
    {
     "name": "stdout",
     "output_type": "stream",
     "text": [
      "V[V] Vs[mV] I[A]\n",
      "[[ 1.    0.2   0.93]\n",
      " [ 2.    0.9   1.19]\n",
      " [ 3.    2.    1.43]\n",
      " [ 4.    3.5   1.63]\n",
      " [ 5.    5.3   1.64]\n",
      " [ 6.    7.4   2.02]\n",
      " [ 7.    9.9   2.18]\n",
      " [ 8.   12.6   2.34]\n",
      " [ 9.   16.3   2.49]\n",
      " [10.   19.3   2.63]\n",
      " [11.   23.1   2.77]]\n"
     ]
    }
   ],
   "source": [
    "path = \"lab-results/SB.txt\"\n",
    "data =  np.loadtxt(path, skiprows=1)\n",
    "with open(path, \"r\") as f:\n",
    "    header = f.readline().strip()\n",
    "print(header)\n",
    "print(data)"
   ]
  },
  {
   "cell_type": "code",
   "execution_count": 57,
   "id": "f55d4065",
   "metadata": {},
   "outputs": [],
   "source": [
    "def lerp(x0, y0, x1, y1, x):\n",
    "    if x1 == x0:\n",
    "        raise ValueError(\"x0 and x1 cannot be the same value\")\n",
    "    return y0 + (x - x0) * (y1 - y0) / (x1 - x0)"
   ]
  },
  {
   "cell_type": "code",
   "execution_count": 58,
   "id": "89599b8c",
   "metadata": {},
   "outputs": [],
   "source": [
    "#table values\n",
    "table = [\n",
    "    (1.00, 300),\n",
    "    (1.43, 400),\n",
    "    (1.87, 500),\n",
    "    (2.34, 600),\n",
    "    (2.85, 700),\n",
    "    (3.36, 800),\n",
    "    (3.88, 900),\n",
    "    (4.41, 1000),\n",
    "    (4.95, 1100),\n",
    "    (5.48, 1200),\n",
    "    (6.03, 1300),\n",
    "    (6.58, 1400),\n",
    "    (7.14, 1500),\n",
    "    (7.71, 1600),\n",
    "    (8.28, 1700),\n",
    "    (8.86, 1800),\n",
    "    (9.44, 1900),\n",
    "    (10.03, 2000),\n",
    "    (10.63, 2100),\n",
    "    (11.24, 2200),\n",
    "    (11.84, 2300),\n",
    "    (12.46, 2400),\n",
    "    (13.08, 2500),\n",
    "    (13.72, 2600),\n",
    "    (14.34, 2700),\n",
    "    (14.99, 2800),\n",
    "    (15.63, 2900),\n",
    "    (16.29, 3000),\n",
    "    (16.95, 3100),\n",
    "    (17.62, 3200),\n",
    "    (18.28, 3300),\n",
    "    (18.97, 3400),\n",
    "    (19.66, 3500),\n",
    "    (26.35, 3600)]\n"
   ]
  },
  {
   "cell_type": "code",
   "execution_count": 59,
   "id": "861cb60f",
   "metadata": {},
   "outputs": [],
   "source": [
    "def Tlerp(RR0):\n",
    "    for i in range(len(table)):\n",
    "        if table[i][0] <= RR0 < table[i+1][0]:\n",
    "            return lerp(*table[i], *table[i+1], RR0)\n",
    "vecTlerp = np.vectorize(Tlerp)"
   ]
  },
  {
   "cell_type": "code",
   "execution_count": 60,
   "id": "6389085a",
   "metadata": {},
   "outputs": [
    {
     "data": {
      "text/plain": [
       "array([ 4.02722403,  6.29465269,  7.85731123,  9.19096528, 11.41865351,\n",
       "       11.12470798, 12.02625159, 12.80450719, 13.53729525, 14.24075419,\n",
       "       14.87310537])"
      ]
     },
     "execution_count": 60,
     "metadata": {},
     "output_type": "execute_result"
    }
   ],
   "source": [
    "V = data[:,0] \n",
    "Vs= data[:,1]\n",
    "I = data[:,2]\n",
    "R = V/I # Ohm\n",
    "T0= 25.2 + 273.15\n",
    "R0= 267e-3 # Ohm\n",
    "alpha = 4.5*10**-3 # K^-1\n",
    "RR0 = R/R0\n",
    "RR0\n"
   ]
  },
  {
   "cell_type": "code",
   "execution_count": 61,
   "id": "0dea031a",
   "metadata": {},
   "outputs": [
    {
     "data": {
      "text/plain": [
       "array([ 971.06645211, 1474.93948723, 1822.19693958, 2118.56450692,\n",
       "       2613.60633608, 2548.28510587, 2748.62813093, 2921.57381923,\n",
       "       3084.41561076, 3240.73982008, 3381.26230426])"
      ]
     },
     "execution_count": 61,
     "metadata": {},
     "output_type": "execute_result"
    }
   ],
   "source": [
    "Teq = T0 + (R-R0)/(alpha*R0)\n",
    "Teq\n"
   ]
  },
  {
   "cell_type": "code",
   "execution_count": 62,
   "id": "a158627d",
   "metadata": {},
   "outputs": [
    {
     "data": {
      "text/plain": [
       "array([ 927.77811971, 1348.11867137, 1625.8440751 , 1857.0629795 ,\n",
       "       2229.7755854 , 2181.09966826, 2330.0405789 , 2455.56567525,\n",
       "       2571.45238256, 2683.99261135, 2782.01621064])"
      ]
     },
     "execution_count": 62,
     "metadata": {},
     "output_type": "execute_result"
    }
   ],
   "source": [
    "Ttab = vecTlerp(RR0)\n",
    "Ttab"
   ]
  },
  {
   "cell_type": "markdown",
   "id": "28fd0065",
   "metadata": {},
   "source": [
    "ønsker Vs prop sigma "
   ]
  },
  {
   "cell_type": "code",
   "execution_count": 91,
   "id": "41613a83",
   "metadata": {},
   "outputs": [
    {
     "data": {
      "text/plain": [
       "[]"
      ]
     },
     "execution_count": 91,
     "metadata": {},
     "output_type": "execute_result"
    },
    {
     "data": {
      "image/png": "[encoded data removed]",
      "text/plain": [
       "<Figure size 640x480 with 1 Axes>"
      ]
     },
     "metadata": {},
     "output_type": "display_data"
    }
   ],
   "source": [
    "plt.scatter(Ttab,Vs)\n",
    "plt.scatter(Ttab[4],Vs[4],label='Uteligger')\n",
    "plt.legend()\n",
    "plt.ylabel(r\"$V_s[\\text{mV}]$\")\n",
    "plt.plot()"
   ]
  },
  {
   "cell_type": "code",
   "execution_count": 65,
   "id": "d7f1de7e",
   "metadata": {},
   "outputs": [
    {
     "data": {
      "text/plain": [
       "array([ 927.77811971, 1348.11867137, 1625.8440751 , 1857.0629795 ,\n",
       "       2229.7755854 , 2181.09966826, 2330.0405789 , 2455.56567525,\n",
       "       2571.45238256, 2683.99261135, 2782.01621064])"
      ]
     },
     "execution_count": 65,
     "metadata": {},
     "output_type": "execute_result"
    }
   ],
   "source": [
    "Ttab"
   ]
  },
  {
   "cell_type": "code",
   "execution_count": 66,
   "id": "1d589a2d",
   "metadata": {},
   "outputs": [
    {
     "data": {
      "text/plain": [
       "array([ 4.02722403,  6.29465269,  7.85731123,  9.19096528, 11.41865351,\n",
       "       11.12470798, 12.02625159, 12.80450719, 13.53729525, 14.24075419,\n",
       "       14.87310537])"
      ]
     },
     "execution_count": 66,
     "metadata": {},
     "output_type": "execute_result"
    }
   ],
   "source": [
    "RR0"
   ]
  },
  {
   "cell_type": "code",
   "execution_count": 67,
   "id": "f7fb74e4",
   "metadata": {},
   "outputs": [
    {
     "data": {
      "text/plain": [
       "array([1.07526882, 1.68067227, 2.0979021 , 2.45398773, 3.04878049,\n",
       "       2.97029703, 3.21100917, 3.41880342, 3.61445783, 3.80228137,\n",
       "       3.97111913])"
      ]
     },
     "execution_count": 67,
     "metadata": {},
     "output_type": "execute_result"
    }
   ],
   "source": [
    "R"
   ]
  },
  {
   "cell_type": "markdown",
   "id": "0de720d9",
   "metadata": {},
   "source": [
    "Vi forventer (forstatt) vs prop T^4\n",
    "så plotter vs/T^4 mot T"
   ]
  },
  {
   "cell_type": "code",
   "execution_count": 86,
   "id": "6e2026cc",
   "metadata": {},
   "outputs": [
    {
     "data": {
      "image/png": "[encoded data removed]",
      "text/plain": [
       "<Figure size 640x480 with 1 Axes>"
      ]
     },
     "metadata": {},
     "output_type": "display_data"
    }
   ],
   "source": [
    "props = Vs/Ttab**4\n",
    "props /= props.mean()\n",
    "plt.scatter(Ttab, props)\n",
    "plt.show()"
   ]
  },
  {
   "cell_type": "code",
   "execution_count": 92,
   "id": "af386438",
   "metadata": {},
   "outputs": [
    {
     "data": {
      "text/plain": [
       "array([1.07526882, 1.68067227, 2.0979021 , 2.45398773, 3.04878049,\n",
       "       2.97029703, 3.21100917, 3.41880342, 3.61445783, 3.80228137,\n",
       "       3.97111913])"
      ]
     },
     "execution_count": 92,
     "metadata": {},
     "output_type": "execute_result"
    }
   ],
   "source": [
    "R"
   ]
  }
 ],
 "metadata": {
  "kernelspec": {
   "display_name": ".venv (3.12.10)",
   "language": "python",
   "name": "python3"
  },
  "language_info": {
   "codemirror_mode": {
    "name": "ipython",
    "version": 3
   },
   "file_extension": ".py",
   "mimetype": "text/x-python",
   "name": "python",
   "nbconvert_exporter": "python",
   "pygments_lexer": "ipython3",
   "version": "3.12.10"
  }
 },
 "nbformat": 4,
 "nbformat_minor": 5
}
